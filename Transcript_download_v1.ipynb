{
 "cells": [
  {
   "cell_type": "code",
   "execution_count": null,
   "metadata": {},
   "outputs": [],
   "source": []
  },
  {
   "cell_type": "code",
   "execution_count": null,
   "metadata": {},
   "outputs": [],
   "source": []
  },
  {
   "cell_type": "code",
   "execution_count": 1,
   "metadata": {},
   "outputs": [
    {
     "name": "stdout",
     "output_type": "stream",
     "text": [
      "Please visit this URL to authorize this application: https://accounts.google.com/o/oauth2/auth?response_type=code&client_id=1064266613804-cqra16i2tf11i670rv2bdp63r3i890m7.apps.googleusercontent.com&redirect_uri=urn%3Aietf%3Awg%3Aoauth%3A2.0%3Aoob&scope=https%3A%2F%2Fwww.googleapis.com%2Fauth%2Fyoutube.force-ssl&state=NtYybwdbZ3yHXt3MusD1IAkKGkbcJr&prompt=consent&access_type=offline\n",
      "Enter the authorization code: 4/3QHBKSuc1TIcO6mdn09DB81YDWtOYwMdQQpBIZAAnjYpwRO1dMXQYSA\n"
     ]
    }
   ],
   "source": [
    "# -*- coding: utf-8 -*-\n",
    "\n",
    "# Sample Python code for youtube.captions.download\n",
    "# NOTE: This sample code downloads a file and can't be executed via this\n",
    "#       interface. To test this sample, you must run it locally using your\n",
    "#       own API credentials.\n",
    "\n",
    "# See instructions for running these code samples locally:\n",
    "# https://developers.google.com/explorer-help/guides/code_samples#python\n",
    "\n",
    "import io\n",
    "import os\n",
    "\n",
    "import google_auth_oauthlib.flow\n",
    "import googleapiclient.discovery\n",
    "import googleapiclient.errors\n",
    "\n",
    "from googleapiclient.http import MediaIoBaseDownload\n",
    "\n",
    "scopes = [\"https://www.googleapis.com/auth/youtube.force-ssl\"]\n",
    "\n",
    "\n",
    "# Disable OAuthlib's HTTPS verification when running locally.\n",
    "# *DO NOT* leave this option enabled in production.\n",
    "os.environ[\"OAUTHLIB_INSECURE_TRANSPORT\"] = \"1\"\n",
    "\n",
    "api_service_name = \"youtube\"\n",
    "api_version = \"v3\"\n",
    "client_secrets_file = \"client_secret.json\"\n",
    "\n",
    "# Get credentials and create an API client\n",
    "flow = google_auth_oauthlib.flow.InstalledAppFlow.from_client_secrets_file(\n",
    "    client_secrets_file, scopes)\n",
    "credentials = flow.run_console()\n",
    "youtube = googleapiclient.discovery.build(\n",
    "    api_service_name, api_version, credentials=credentials)\n",
    "\n"
   ]
  },
  {
   "cell_type": "code",
   "execution_count": 6,
   "metadata": {},
   "outputs": [],
   "source": [
    "# Get Captions\n",
    "from youtube_transcript_api import YouTubeTranscriptApi"
   ]
  },
  {
   "cell_type": "code",
   "execution_count": 7,
   "metadata": {},
   "outputs": [
    {
     "data": {
      "text/plain": [
       "[{'text': 'hello everyone this is shortage air on',\n",
       "  'start': 0.06,\n",
       "  'duration': 3.48},\n",
       " {'text': 'behalf of the team Spectre the new',\n",
       "  'start': 1.92,\n",
       "  'duration': 3.589},\n",
       " {'text': 'awkward friend web app is Hindi medium',\n",
       "  'start': 3.54,\n",
       "  'duration': 4.29},\n",
       " {'text': 'the link to the website is Hindi medium',\n",
       "  'start': 5.509,\n",
       "  'duration': 4.571},\n",
       " {'text': 'not Heroku app calm as you can see in',\n",
       "  'start': 7.83,\n",
       "  'duration': 5.79},\n",
       " {'text': 'this so then you open the link you will',\n",
       "  'start': 10.08,\n",
       "  'duration': 5.04},\n",
       " {'text': 'see two options generate subtitle files',\n",
       "  'start': 13.62,\n",
       "  'duration': 3.72},\n",
       " {'text': 'and supported sites option you have to',\n",
       "  'start': 15.12,\n",
       "  'duration': 3.659},\n",
       " {'text': 'click on the generator on the generate',\n",
       "  'start': 17.34,\n",
       "  'duration': 8.13},\n",
       " {'text': 'subtitle files option when the link',\n",
       "  'start': 18.779,\n",
       "  'duration': 8.67},\n",
       " {'text': 'opens you will see this page on this',\n",
       "  'start': 25.47,\n",
       "  'duration': 3.149},\n",
       " {'text': 'page you have to enter the URL of the',\n",
       "  'start': 27.449,\n",
       "  'duration': 5.641},\n",
       " {'text': 'video I have copied a youtube link here',\n",
       "  'start': 28.619,\n",
       "  'duration': 6.511},\n",
       " {'text': 'and you have to enter your email address',\n",
       "  'start': 33.09,\n",
       "  'duration': 7.08},\n",
       " {'text': 'and then click on submit the processing',\n",
       "  'start': 35.13,\n",
       "  'duration': 6.63},\n",
       " {'text': 'will take a minute or two and after that',\n",
       "  'start': 40.17,\n",
       "  'duration': 3.18},\n",
       " {'text': 'the file will be available for download',\n",
       "  'start': 41.76,\n",
       "  'duration': 4.91},\n",
       " {'text': 'and will also be mailed to you', 'start': 43.35, 'duration': 3.32},\n",
       " {'text': 'so as you can see the file has been',\n",
       "  'start': 66.58,\n",
       "  'duration': 11.34},\n",
       " {'text': 'downloaded and it has also been made as',\n",
       "  'start': 68.26,\n",
       "  'duration': 12.15},\n",
       " {'text': 'you can see here so this is our a',\n",
       "  'start': 77.92,\n",
       "  'duration': 6.23},\n",
       " {'text': \"bloke's thank you and have a nice day\",\n",
       "  'start': 80.41,\n",
       "  'duration': 3.74}]"
      ]
     },
     "execution_count": 7,
     "metadata": {},
     "output_type": "execute_result"
    }
   ],
   "source": [
    "YouTubeTranscriptApi.get_transcript('c7Ub7QXtQVs')"
   ]
  },
  {
   "cell_type": "code",
   "execution_count": 2,
   "metadata": {},
   "outputs": [
    {
     "ename": "HttpError",
     "evalue": "<HttpError 404 when requesting https://www.googleapis.com/youtube/v3/captions/c7Ub7QXtQVs? returned \"The caption track could not be found. Check the value of the request's <code>id</code> parameter to ensure that it is correct.\">",
     "output_type": "error",
     "traceback": [
      "\u001b[0;31m---------------------------------------------------------------------------\u001b[0m",
      "\u001b[0;31mHttpError\u001b[0m                                 Traceback (most recent call last)",
      "\u001b[0;32m<ipython-input-2-d662d48cf658>\u001b[0m in \u001b[0;36m<module>\u001b[0;34m\u001b[0m\n\u001b[1;32m      9\u001b[0m \u001b[0mcomplete\u001b[0m \u001b[0;34m=\u001b[0m \u001b[0;32mFalse\u001b[0m\u001b[0;34m\u001b[0m\u001b[0;34m\u001b[0m\u001b[0m\n\u001b[1;32m     10\u001b[0m \u001b[0;32mwhile\u001b[0m \u001b[0;32mnot\u001b[0m \u001b[0mcomplete\u001b[0m\u001b[0;34m:\u001b[0m\u001b[0;34m\u001b[0m\u001b[0;34m\u001b[0m\u001b[0m\n\u001b[0;32m---> 11\u001b[0;31m   \u001b[0mstatus\u001b[0m\u001b[0;34m,\u001b[0m \u001b[0mcomplete\u001b[0m \u001b[0;34m=\u001b[0m \u001b[0mdownload\u001b[0m\u001b[0;34m.\u001b[0m\u001b[0mnext_chunk\u001b[0m\u001b[0;34m(\u001b[0m\u001b[0;34m)\u001b[0m\u001b[0;34m\u001b[0m\u001b[0;34m\u001b[0m\u001b[0m\n\u001b[0m\u001b[1;32m     12\u001b[0m \u001b[0;34m\u001b[0m\u001b[0m\n",
      "\u001b[0;32m~/.local/lib/python3.8/site-packages/googleapiclient/_helpers.py\u001b[0m in \u001b[0;36mpositional_wrapper\u001b[0;34m(*args, **kwargs)\u001b[0m\n\u001b[1;32m    132\u001b[0m                 \u001b[0;32melif\u001b[0m \u001b[0mpositional_parameters_enforcement\u001b[0m \u001b[0;34m==\u001b[0m \u001b[0mPOSITIONAL_WARNING\u001b[0m\u001b[0;34m:\u001b[0m\u001b[0;34m\u001b[0m\u001b[0;34m\u001b[0m\u001b[0m\n\u001b[1;32m    133\u001b[0m                     \u001b[0mlogger\u001b[0m\u001b[0;34m.\u001b[0m\u001b[0mwarning\u001b[0m\u001b[0;34m(\u001b[0m\u001b[0mmessage\u001b[0m\u001b[0;34m)\u001b[0m\u001b[0;34m\u001b[0m\u001b[0;34m\u001b[0m\u001b[0m\n\u001b[0;32m--> 134\u001b[0;31m             \u001b[0;32mreturn\u001b[0m \u001b[0mwrapped\u001b[0m\u001b[0;34m(\u001b[0m\u001b[0;34m*\u001b[0m\u001b[0margs\u001b[0m\u001b[0;34m,\u001b[0m \u001b[0;34m**\u001b[0m\u001b[0mkwargs\u001b[0m\u001b[0;34m)\u001b[0m\u001b[0;34m\u001b[0m\u001b[0;34m\u001b[0m\u001b[0m\n\u001b[0m\u001b[1;32m    135\u001b[0m \u001b[0;34m\u001b[0m\u001b[0m\n\u001b[1;32m    136\u001b[0m         \u001b[0;32mreturn\u001b[0m \u001b[0mpositional_wrapper\u001b[0m\u001b[0;34m\u001b[0m\u001b[0;34m\u001b[0m\u001b[0m\n",
      "\u001b[0;32m~/.local/lib/python3.8/site-packages/googleapiclient/http.py\u001b[0m in \u001b[0;36mnext_chunk\u001b[0;34m(self, num_retries)\u001b[0m\n\u001b[1;32m    747\u001b[0m             \u001b[0;32mreturn\u001b[0m \u001b[0mMediaDownloadProgress\u001b[0m\u001b[0;34m(\u001b[0m\u001b[0mself\u001b[0m\u001b[0;34m.\u001b[0m\u001b[0m_progress\u001b[0m\u001b[0;34m,\u001b[0m \u001b[0mself\u001b[0m\u001b[0;34m.\u001b[0m\u001b[0m_total_size\u001b[0m\u001b[0;34m)\u001b[0m\u001b[0;34m,\u001b[0m \u001b[0mself\u001b[0m\u001b[0;34m.\u001b[0m\u001b[0m_done\u001b[0m\u001b[0;34m\u001b[0m\u001b[0;34m\u001b[0m\u001b[0m\n\u001b[1;32m    748\u001b[0m         \u001b[0;32melse\u001b[0m\u001b[0;34m:\u001b[0m\u001b[0;34m\u001b[0m\u001b[0;34m\u001b[0m\u001b[0m\n\u001b[0;32m--> 749\u001b[0;31m             \u001b[0;32mraise\u001b[0m \u001b[0mHttpError\u001b[0m\u001b[0;34m(\u001b[0m\u001b[0mresp\u001b[0m\u001b[0;34m,\u001b[0m \u001b[0mcontent\u001b[0m\u001b[0;34m,\u001b[0m \u001b[0muri\u001b[0m\u001b[0;34m=\u001b[0m\u001b[0mself\u001b[0m\u001b[0;34m.\u001b[0m\u001b[0m_uri\u001b[0m\u001b[0;34m)\u001b[0m\u001b[0;34m\u001b[0m\u001b[0;34m\u001b[0m\u001b[0m\n\u001b[0m\u001b[1;32m    750\u001b[0m \u001b[0;34m\u001b[0m\u001b[0m\n\u001b[1;32m    751\u001b[0m \u001b[0;34m\u001b[0m\u001b[0m\n",
      "\u001b[0;31mHttpError\u001b[0m: <HttpError 404 when requesting https://www.googleapis.com/youtube/v3/captions/c7Ub7QXtQVs? returned \"The caption track could not be found. Check the value of the request's <code>id</code> parameter to ensure that it is correct.\">"
     ]
    }
   ],
   "source": [
    "request = youtube.captions().download(\n",
    "    id=\"c7Ub7QXtQVs\"\n",
    ")\n",
    "# TODO: For this request to work, you must replace \"YOUR_FILE\"\n",
    "#       with the location where the downloaded content should be written.\n",
    "fh = io.FileIO(\"YOUR_FILE\", \"wb\")\n",
    "\n",
    "download = MediaIoBaseDownload(fh, request)\n",
    "complete = False\n",
    "while not complete:\n",
    "  status, complete = download.next_chunk()\n",
    "\n"
   ]
  },
  {
   "cell_type": "code",
   "execution_count": null,
   "metadata": {},
   "outputs": [],
   "source": []
  },
  {
   "cell_type": "code",
   "execution_count": null,
   "metadata": {},
   "outputs": [],
   "source": []
  }
 ],
 "metadata": {
  "kernelspec": {
   "display_name": "Python 3",
   "language": "python",
   "name": "python3"
  },
  "language_info": {
   "codemirror_mode": {
    "name": "ipython",
    "version": 3
   },
   "file_extension": ".py",
   "mimetype": "text/x-python",
   "name": "python",
   "nbconvert_exporter": "python",
   "pygments_lexer": "ipython3",
   "version": "3.8.2"
  }
 },
 "nbformat": 4,
 "nbformat_minor": 4
}
